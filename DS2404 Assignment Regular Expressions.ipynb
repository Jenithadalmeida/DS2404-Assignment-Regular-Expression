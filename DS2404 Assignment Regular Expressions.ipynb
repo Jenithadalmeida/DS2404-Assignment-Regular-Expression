{
 "cells": [
  {
   "cell_type": "markdown",
   "id": "99ef358a",
   "metadata": {},
   "source": [
    "#Q1.Write a Python program to replace all occurrences of a space, comma, or dot with a colon #"
   ]
  },
  {
   "cell_type": "code",
   "execution_count": 7,
   "id": "bd2fd80a",
   "metadata": {},
   "outputs": [
    {
     "name": "stdout",
     "output_type": "stream",
     "text": [
      "Original text: 'Python Exercises, PHP exercises.'\n",
      "Replaced text: Python:Exercises::PHP:exercises:\n"
     ]
    }
   ],
   "source": [
    "import re\n",
    "def replace_spaces_commas_dots(text):\n",
    "    pattern = r'[ ,.]'\n",
    "    replaced_text = re.sub(pattern,':', text)\n",
    "    return replaced_text\n",
    "sample_text = \"'Python Exercises, PHP exercises.'\"\n",
    "replaced_text = replace_spaces_commas_dots(sample_text)\n",
    "print(\"Original text:\", sample_text)\n",
    "print(\"Replaced text:\", replaced_text.strip(\"''\"))"
   ]
  },
  {
   "cell_type": "markdown",
   "id": "f7d11ad6",
   "metadata": {},
   "source": [
    "#Q2.Create a dataframe using the dictionary below and remove everything (commas (,), !, XXXX, ;, etc.) from the columns except words#"
   ]
  },
  {
   "cell_type": "code",
   "execution_count": 12,
   "id": "d9cd9c2c",
   "metadata": {},
   "outputs": [
    {
     "name": "stdout",
     "output_type": "stream",
     "text": [
      "0 hello world\n",
      "1 xxxxx test\n",
      "2 four five six\n"
     ]
    }
   ],
   "source": [
    "import pandas as pd\n",
    "import re\n",
    "data= {'SUMMARY': ['hello, world!', 'xxxxx test', '123four, five:; six...']}\n",
    "df = pd.DataFrame(data)\n",
    "def clean_text(text):\n",
    "    cleaned_text = re.sub(r'\\b\\d+\\b|[^a-zA-Z\\s]', '', text)\n",
    "    return cleaned_text.strip()\n",
    "df ['SUMMARY'] = df['SUMMARY'].apply(clean_text)\n",
    "for index, row in df.iterrows():\n",
    "    print(index, row['SUMMARY'])"
   ]
  },
  {
   "cell_type": "markdown",
   "id": "d1d4ccc0",
   "metadata": {},
   "source": [
    "#Q3.Create a function in python to find all words that are at least 4 characters long in a string. The use of the re.compile() method is mandatory#"
   ]
  },
  {
   "cell_type": "code",
   "execution_count": 26,
   "id": "057d74e6",
   "metadata": {},
   "outputs": [
    {
     "name": "stdout",
     "output_type": "stream",
     "text": [
      "['keep', 'spreading', 'positivity', 'wherever', 'Good', 'Morning']\n"
     ]
    }
   ],
   "source": [
    "import re\n",
    "\n",
    "def simple_words(text):\n",
    "    \n",
    "     pattern = re.compile(r'\\b\\w{4,}\\b')\n",
    " \n",
    "     long_words = pattern.findall(text)\n",
    "\n",
    "     return long_words\n",
    "\n",
    "input_text = \"keep spreading positivity wherever you go.Good Morning.\"\n",
    "result =simple_words(input_text)\n",
    "print(result)"
   ]
  },
  {
   "cell_type": "markdown",
   "id": "073d0997",
   "metadata": {},
   "source": [
    "#Q4.Create a function in python to find all three, four, and five character words in a string. The use of the re.compile() method is mandatory.#"
   ]
  },
  {
   "cell_type": "code",
   "execution_count": 47,
   "id": "d4a731eb",
   "metadata": {},
   "outputs": [
    {
     "name": "stdout",
     "output_type": "stream",
     "text": [
      "['Life', 'more', 'when', 'you', 'the', 'fact', 'that', 'you', 'never', 'get', 'the', 'same', 'twice']\n"
     ]
    }
   ],
   "source": [
    "import re\n",
    "\n",
    "def simplest_words(text):\n",
    "    \n",
    "    pattern = re.compile(r'\\b\\w{3,5}\\b')\n",
    "    \n",
    "    simplest1_words = pattern.findall(text)\n",
    "    \n",
    "    return simplest1_words\n",
    "input_text = \"Life becomes more meaningfull when you realize the simple fact that you'll never get the same moment twice\"\n",
    "result = simplest_words(input_text)\n",
    "print(result)"
   ]
  },
  {
   "cell_type": "markdown",
   "id": "9ac4f99d",
   "metadata": {},
   "source": [
    "#Q5.Create a function in Python to remove the parenthesis in a list of strings. The use of the re.compile() method is mandatory#"
   ]
  },
  {
   "cell_type": "code",
   "execution_count": 48,
   "id": "c3f70735",
   "metadata": {},
   "outputs": [
    {
     "name": "stdout",
     "output_type": "stream",
     "text": [
      "example\n",
      "hr@fliprobo\n",
      "github\n",
      "Hellow\n",
      "Data\n"
     ]
    }
   ],
   "source": [
    "import re\n",
    "\n",
    "def remove_parentheses(strings):\n",
    "    \n",
    "    pattern = re.compile(r'\\s*\\([^)]*\\)')\n",
    "    modified_strings = [pattern.sub('', s) for s in strings]\n",
    "    \n",
    "    return modified_strings\n",
    "\n",
    "sample_text = [\"example (.com)\", \"hr@fliprobo (.com)\", \"github (.com)\", \"Hellow (Data Science world)\", \"Data(Scientist)\"]\n",
    "output = remove_parentheses(sample_text)\n",
    "\n",
    "for string in output:\n",
    "    print(string.strip())"
   ]
  },
  {
   "cell_type": "markdown",
   "id": "fc23153b",
   "metadata": {},
   "source": [
    "#Q6.Write a python program to remove the parenthesis area from the text stored in the text file using Regular Expression"
   ]
  },
  {
   "cell_type": "code",
   "execution_count": 3,
   "id": "08f87119",
   "metadata": {},
   "outputs": [
    {
     "name": "stdout",
     "output_type": "stream",
     "text": [
      "[\"example\", \"hr@fliprobo\", \"github\", \"Hello\", \"Data\"]\n"
     ]
    }
   ],
   "source": [
    "import re\n",
    "\n",
    "def remove_parentheses(text):\n",
    "    pattern = re.compile(r'\\s*\\([^)]*\\)\\s*')\n",
    "                         \n",
    "    modified_text = pattern.sub('', text)\n",
    "                         \n",
    "    return modified_text\n",
    "                         \n",
    "file_path = \"sample_text.txt\"\n",
    "with open(file_path, 'r')as file:\n",
    "    original_text = file.read()\n",
    "                         \n",
    "modified_text = remove_parentheses(original_text)\n",
    "                         \n",
    "modified_text = modified_text.replace(\" '\", \"\")\n",
    "                         \n",
    "print(modified_text)\n",
    "                         "
   ]
  },
  {
   "cell_type": "markdown",
   "id": "d6681251",
   "metadata": {},
   "source": [
    "#Q7.Write a regular expression in Python to split a string into uppercase letters#"
   ]
  },
  {
   "cell_type": "code",
   "execution_count": 3,
   "id": "0c8eb59a",
   "metadata": {},
   "outputs": [
    {
     "name": "stdout",
     "output_type": "stream",
     "text": [
      "['Importance', 'Of', 'Regular', 'Expressions', 'In', 'Python']\n"
     ]
    }
   ],
   "source": [
    "import re\n",
    "\n",
    "text= \"ImportanceOfRegularExpressionsInPython\"\n",
    "\n",
    "pattern = re.compile(r'[A-Z][a-z]*')\n",
    "\n",
    "words = pattern.findall(text)\n",
    "\n",
    "print(words)"
   ]
  },
  {
   "cell_type": "markdown",
   "id": "bd789ab3",
   "metadata": {},
   "source": [
    "#Q8.Create a function in python to insert spaces between words starting with numbers#"
   ]
  },
  {
   "cell_type": "code",
   "execution_count": 4,
   "id": "4e03f391",
   "metadata": {},
   "outputs": [
    {
     "name": "stdout",
     "output_type": "stream",
     "text": [
      "RegularExpression1IsAn2ImportantTopic3InPython\n"
     ]
    }
   ],
   "source": [
    "import re\n",
    "\n",
    "def insert_spaces(text):\n",
    "    pattern = re.compile(r'(?<=\\D)(?=\\d)')\n",
    "    \n",
    "    modified_text = pattern.sub('', text)\n",
    "    \n",
    "    return modified_text\n",
    "\n",
    "sample_text = \"RegularExpression1IsAn2ImportantTopic3InPython\"\n",
    "\n",
    "output_text = insert_spaces(sample_text)\n",
    "\n",
    "print(output_text)"
   ]
  },
  {
   "cell_type": "markdown",
   "id": "5ffd6818",
   "metadata": {},
   "source": [
    "#Q9.Create a function in python to insert spaces between words starting with capital letters or with numbers#"
   ]
  },
  {
   "cell_type": "code",
   "execution_count": 16,
   "id": "7e23d07e",
   "metadata": {},
   "outputs": [
    {
     "name": "stdout",
     "output_type": "stream",
     "text": [
      "Regular Expression 1Is An 2Important Topic 3In Python\n"
     ]
    }
   ],
   "source": [
    "import re\n",
    "\n",
    "def insert_spaces(text):\n",
    "    \n",
    "    pattern = re.compile(r'(?<=\\D)(?=\\d)|(?<=[a-z])(?=[A-Z])')\n",
    "    \n",
    "    modified_text = pattern.sub(' ', text)\n",
    "    \n",
    "    return modified_text\n",
    "\n",
    "sample_text = \"RegularExpression1IsAn2ImportantTopic3InPython\"\n",
    "\n",
    "output_text = insert_spaces(sample_text)\n",
    "\n",
    "print(output_text)"
   ]
  },
  {
   "cell_type": "markdown",
   "id": "f8a474ab",
   "metadata": {},
   "source": [
    "#Q10.Use the github link below to read the data and create a dataframe. After creating the dataframe extract the first 6 letters of each country and store in the dataframe under a new column called first_five_letters#"
   ]
  },
  {
   "cell_type": "code",
   "execution_count": 19,
   "id": "3d019653",
   "metadata": {},
   "outputs": [
    {
     "name": "stdout",
     "output_type": "stream",
     "text": [
      "       Country          Region  Happiness Rank  Happiness Score  \\\n",
      "0  Switzerland  Western Europe               1            7.587   \n",
      "1      Iceland  Western Europe               2            7.561   \n",
      "2      Denmark  Western Europe               3            7.527   \n",
      "3       Norway  Western Europe               4            7.522   \n",
      "4       Canada   North America               5            7.427   \n",
      "\n",
      "   Standard Error  Economy (GDP per Capita)   Family  \\\n",
      "0         0.03411                   1.39651  1.34951   \n",
      "1         0.04884                   1.30232  1.40223   \n",
      "2         0.03328                   1.32548  1.36058   \n",
      "3         0.03880                   1.45900  1.33095   \n",
      "4         0.03553                   1.32629  1.32261   \n",
      "\n",
      "   Health (Life Expectancy)  Freedom  Trust (Government Corruption)  \\\n",
      "0                   0.94143  0.66557                        0.41978   \n",
      "1                   0.94784  0.62877                        0.14145   \n",
      "2                   0.87464  0.64938                        0.48357   \n",
      "3                   0.88521  0.66973                        0.36503   \n",
      "4                   0.90563  0.63297                        0.32957   \n",
      "\n",
      "   Generosity  Dystopia Residual first_five_letters  \n",
      "0     0.29678            2.51738             Switze  \n",
      "1     0.43630            2.70201             Icelan  \n",
      "2     0.34139            2.49204             Denmar  \n",
      "3     0.34699            2.46531             Norway  \n",
      "4     0.45811            2.45176             Canada  \n"
     ]
    }
   ],
   "source": [
    "import pandas as pd\n",
    "\n",
    "url = \"https://raw.githubusercontent.com/dsrscientist/DSData/master/happiness_score_dataset.csv\"\n",
    "df = pd.read_csv(url)\n",
    "\n",
    "df['first_five_letters'] = df['Country'].str[:6]\n",
    "\n",
    "print(df.head())"
   ]
  },
  {
   "cell_type": "markdown",
   "id": "152460f2",
   "metadata": {},
   "source": [
    "#Q11.Write a Python program to match a string that contains only upper and lowercase letters, numbers, and underscores#"
   ]
  },
  {
   "cell_type": "code",
   "execution_count": 28,
   "id": "fe573aa6",
   "metadata": {},
   "outputs": [
    {
     "name": "stdout",
     "output_type": "stream",
     "text": [
      "'Hello_World123' matches the pattern\n",
      "'This_is$not_valid' does not match the pattern\n",
      "'1234' matches the pattern\n",
      "'_underscore_' matches the pattern\n",
      "'UPPERCASE' matches the pattern\n"
     ]
    }
   ],
   "source": [
    "import re\n",
    "\n",
    "def match_string(text):\n",
    "    \n",
    "    pattern = re.compile(r'^[a-zA-Z0-9_]+$')\n",
    "    \n",
    "    if pattern.match(text):\n",
    "        \n",
    "        return True\n",
    "    else:     \n",
    "        return False\n",
    "    \n",
    "strings_to_test = [\"Hello_World123\", \"This_is$not_valid\", \"1234\", \"_underscore_\", \"UPPERCASE\"]\n",
    "\n",
    "for text in strings_to_test:\n",
    "    \n",
    "    if match_string(text):\n",
    "        \n",
    "        print(f\"'{text}' matches the pattern\") \n",
    "    else:\n",
    "        print(f\"'{text}' does not match the pattern\")"
   ]
  },
  {
   "cell_type": "markdown",
   "id": "878e121c",
   "metadata": {},
   "source": [
    "#Q12.Write a Python program where a string will start with a specific number#"
   ]
  },
  {
   "cell_type": "code",
   "execution_count": 26,
   "id": "46e7d4d6",
   "metadata": {},
   "outputs": [
    {
     "name": "stdout",
     "output_type": "stream",
     "text": [
      "'123abc' starts with the number 123\n",
      "'456def' does not start with the number 123\n",
      "'789xyz' does not start with the number 123\n",
      "'abc123' does not start with the number 123\n",
      "'def456' does not start with the number 123\n"
     ]
    }
   ],
   "source": [
    "import re\n",
    "\n",
    "def starts_with_number(string, number):\n",
    "    \n",
    "    pattern = re.compile(r'^' + str(number))\n",
    "    \n",
    "    if pattern.match(string):\n",
    "        return True\n",
    "    else:\n",
    "        return False\n",
    "    \n",
    "strings_to_test = [\"123abc\", \"456def\", \"789xyz\", \"abc123\", \"def456\"]\n",
    "\n",
    "specific_number = 123\n",
    "\n",
    "for string in strings_to_test:\n",
    "    if starts_with_number(string, specific_number):\n",
    "        print(f\"'{string}' starts with the number {specific_number}\")\n",
    "    else:\n",
    "            print(f\"'{string}' does not start with the number {specific_number}\")"
   ]
  },
  {
   "cell_type": "markdown",
   "id": "6e00c294",
   "metadata": {},
   "source": [
    "#Q13.\n",
    "Write a Python program to remove leading zeros from an IP address#"
   ]
  },
  {
   "cell_type": "code",
   "execution_count": 3,
   "id": "fed71c58",
   "metadata": {},
   "outputs": [
    {
     "name": "stdout",
     "output_type": "stream",
     "text": [
      "Original IP address: 192.168.001.001\n",
      "Modified IP address: 192.168.1.1\n"
     ]
    }
   ],
   "source": [
    "import re\n",
    "\n",
    "def remove_zeros(ip_address):\n",
    "    \n",
    "    pattern = re.compile(r'\\b0+(\\d+)\\b')\n",
    "    \n",
    "    modified_address = pattern.sub(r'\\1', ip_address)\n",
    "\n",
    "    return modified_address\n",
    "\n",
    "ip_address = \"192.168.001.001\"\n",
    "modified_address = remove_zeros(ip_address)\n",
    "print(\"Original IP address:\", ip_address)\n",
    "print(\"Modified IP address:\", modified_address)"
   ]
  },
  {
   "cell_type": "markdown",
   "id": "d399f248",
   "metadata": {},
   "source": [
    "\n",
    "#Q14.Write a regular expression in python to match a date string in the form of Month name followed by day number and year stored in a text file#"
   ]
  },
  {
   "cell_type": "code",
   "execution_count": 25,
   "id": "820d42e0",
   "metadata": {},
   "outputs": [
    {
     "name": "stdout",
     "output_type": "stream",
     "text": [
      "Extracted Date: August 15th 1947\n"
     ]
    }
   ],
   "source": [
    "import re\n",
    "\n",
    "def extract_date_from_text_file(file_path):\n",
    "    \n",
    "    with open(file_path, 'r') as file:\n",
    "        text = file.read()\n",
    "        \n",
    "    pattern = re.compile(r'\\b(?:January|February|March|April|May|June|July|August|September|October|November|December)\\s+\\d{1,2}(?:st|nd|rd|th)?\\s+\\d{4}\\b')\n",
    "    \n",
    "    match = pattern.search(text)\n",
    "    \n",
    "    if match:\n",
    "        return match.group()\n",
    "    else:\n",
    "        return None\n",
    "    \n",
    "file_path = \"sample1_text.txt\"\n",
    "    \n",
    "date = extract_date_from_text_file(file_path)\n",
    "    \n",
    "print(\"Extracted Date:\", date)"
   ]
  },
  {
   "cell_type": "markdown",
   "id": "25a4960f",
   "metadata": {},
   "source": [
    "#Q15.Write a Python program to search some literals strings in a string#"
   ]
  },
  {
   "cell_type": "code",
   "execution_count": 8,
   "id": "39ab7833",
   "metadata": {},
   "outputs": [
    {
     "name": "stdout",
     "output_type": "stream",
     "text": [
      "'fox' found in the text.\n",
      "'dog' found in the text.\n",
      "'horse' not found in the text.\n"
     ]
    }
   ],
   "source": [
    "def search_words(text, words_to_search):\n",
    "    \n",
    "    for word in words_to_search:\n",
    "        \n",
    "        if word in text:\n",
    "            print(f\"'{word}' found in the text.\")\n",
    "        else:\n",
    "            print(f\"'{word}' not found in the text.\")\n",
    "            \n",
    "sample_text = 'The quick brown fox jums over the lazy dog.'\n",
    "\n",
    "words_to_search = ['fox','dog', 'horse']\n",
    "\n",
    "search_words(sample_text, words_to_search)"
   ]
  },
  {
   "cell_type": "markdown",
   "id": "3405ec7b",
   "metadata": {},
   "source": [
    "#Q16.Write a Python program to search a literals string in a string and also find the location within the original string where the pattern occurs#"
   ]
  },
  {
   "cell_type": "code",
   "execution_count": 22,
   "id": "ddb8bf77",
   "metadata": {},
   "outputs": [
    {
     "name": "stdout",
     "output_type": "stream",
     "text": [
      "The pattern 'fox' is found at the following location(s):\n",
      "starts at index 16 and ends at index 19\n"
     ]
    }
   ],
   "source": [
    "import re\n",
    "\n",
    "def find_pattern_location(text, pattern):\n",
    "    matches = re.finditer(pattern, text)\n",
    "    locations = []\n",
    "    for match in matches:\n",
    "          locations.append((match.start(), match.end()))\n",
    "    return locations\n",
    "\n",
    "def main():\n",
    "    text = 'The quick brown fox jumps over the lazy dog.'\n",
    "    pattern = 'fox'\n",
    "    \n",
    "    locations = find_pattern_location(text, pattern)\n",
    "    \n",
    "    if locations:\n",
    "        print(f\"The pattern '{pattern}' is found at the following location(s):\")\n",
    "        for start, end in locations:\n",
    "            print(f\"starts at index {start} and ends at index {end}\")\n",
    "    else:\n",
    "        print(f\"The pattern '{pattern}' is not found in the text.\")\n",
    "        \n",
    "if __name__ == \"__main__\":\n",
    "    main()"
   ]
  },
  {
   "cell_type": "markdown",
   "id": "4ff9efb8",
   "metadata": {},
   "source": [
    "#Q17.Write a Python program to find the substrings within a string#"
   ]
  },
  {
   "cell_type": "code",
   "execution_count": 12,
   "id": "cfdc97c6",
   "metadata": {},
   "outputs": [
    {
     "name": "stdout",
     "output_type": "stream",
     "text": [
      " The substring 'exercises' is found 3 times:\n",
      "exercises\n",
      "exercises\n",
      "exercises\n"
     ]
    }
   ],
   "source": [
    "import re\n",
    "\n",
    "def find_substrings(text, pattern):\n",
    "    substrings = re.findall(pattern, text)\n",
    "    return substrings\n",
    "\n",
    "def main():\n",
    "    text = 'Python exercises, PHP exercises, C# exercises'\n",
    "    pattern = 'exercises'\n",
    "    \n",
    "    substrings = find_substrings(text, pattern)\n",
    "    \n",
    "    if substrings:\n",
    "        print(f\" The substring '{pattern}' is found {len(substrings)} times:\")\n",
    "        for substring in substrings:\n",
    "            print(substring)\n",
    "    else:\n",
    "        print(f\" The substring '{pattern}' is not found in the text.\")\n",
    "        \n",
    "if __name__ == \"__main__\":\n",
    "    main()\n",
    "    "
   ]
  },
  {
   "cell_type": "markdown",
   "id": "01185d6d",
   "metadata": {},
   "source": [
    "#Q18.Write a Python program to find the occurrence and position of the substrings within a string#"
   ]
  },
  {
   "cell_type": "code",
   "execution_count": 17,
   "id": "919be879",
   "metadata": {},
   "outputs": [
    {
     "name": "stdout",
     "output_type": "stream",
     "text": [
      "The substring 'exercises' is found 3 times at the followings positions:\n",
      "occurrence 1: Position 7\n",
      "occurrence 2: Position 22\n",
      "occurrence 3: Position 36\n"
     ]
    }
   ],
   "source": [
    "def find_occurrences_and_positions(text, substring):\n",
    "    occurrences = []\n",
    "    start = 0\n",
    "    \n",
    "    while True:\n",
    "        start = text.find(substring, start)\n",
    "        if start == -1:\n",
    "            break\n",
    "        occurrences.append(start)\n",
    "        start += 1\n",
    "        \n",
    "    return occurrences\n",
    "\n",
    "def main():\n",
    "    text = 'Python exercises, PHP exercises, C# exercises'\n",
    "    substring = 'exercises'\n",
    "    \n",
    "    occurrences = find_occurrences_and_positions(text, substring)\n",
    "    \n",
    "    if occurrences:\n",
    "        print(f\"The substring '{substring}' is found {len(occurrences)} times at the followings positions:\")\n",
    "        for i, position in enumerate(occurrences, start=1):\n",
    "            print(f\"occurrence {i}: Position {position}\")\n",
    "    else:\n",
    "        print(f\"The substring '{substring}' is not found in the text.\")\n",
    "        \n",
    "if __name__ == \"__main__\":\n",
    "    main()"
   ]
  },
  {
   "cell_type": "markdown",
   "id": "88353c2d",
   "metadata": {},
   "source": [
    "#Q19.Write a Python program to convert a date of yyyy-mm-dd format to dd-mm-yyyy format#"
   ]
  },
  {
   "cell_type": "code",
   "execution_count": 19,
   "id": "4cd1a916",
   "metadata": {},
   "outputs": [
    {
     "name": "stdout",
     "output_type": "stream",
     "text": [
      "The date '2024-04-27' in dd-mm-yyyy format is: 27-04-2024\n"
     ]
    }
   ],
   "source": [
    "from datetime import datetime\n",
    "\n",
    "def convert_date_format(date_string):\n",
    "    \n",
    "    date_obj = datetime.strptime(date_string, '%Y-%m-%d')\n",
    "    \n",
    "    formatted_date = date_obj.strftime('%d-%m-%Y')\n",
    "    \n",
    "    return formatted_date\n",
    "    \n",
    "def main():\n",
    "    date_string = '2024-04-27'\n",
    "    \n",
    "    new_date_format = convert_date_format(date_string)\n",
    "    \n",
    "    print(f\"The date '{date_string}' in dd-mm-yyyy format is: {new_date_format}\")\n",
    "    \n",
    "if __name__ == \"__main__\":\n",
    "    main()"
   ]
  },
  {
   "cell_type": "markdown",
   "id": "52e1ee76",
   "metadata": {},
   "source": [
    "#Q20.Create a function in python to find all decimal numbers with a precision of 1 or 2 in a string. The use of the re.compile() method is mandatory#"
   ]
  },
  {
   "cell_type": "code",
   "execution_count": 22,
   "id": "7bfed004",
   "metadata": {},
   "outputs": [
    {
     "name": "stdout",
     "output_type": "stream",
     "text": [
      "Decimal numbers with precision of 1 or 2:\n",
      "['01.12', '145.8', '3.01', '27.25', '0.25']\n"
     ]
    }
   ],
   "source": [
    "import re\n",
    "\n",
    "def find_decimal_numbers(text):\n",
    "    pattern = re.compile(r'\\b\\d+\\.\\d{1,2}\\b')\n",
    "    decimal_numbers = pattern.findall(text)\n",
    "    return decimal_numbers\n",
    "\n",
    "def main():\n",
    "    sample_text = \"01.12 0132.123 2.31875 145.8 3.01 27.25 0.25\"\n",
    "    decimals = find_decimal_numbers(sample_text)\n",
    "    \n",
    "    print(\"Decimal numbers with precision of 1 or 2:\")\n",
    "    print(decimals)\n",
    "    \n",
    "if __name__ == \"__main__\":\n",
    "    main()"
   ]
  },
  {
   "cell_type": "markdown",
   "id": "2bc860f1",
   "metadata": {},
   "source": [
    "#Q21.Write a Python program to separate and print the numbers and their position of a given string#"
   ]
  },
  {
   "cell_type": "code",
   "execution_count": 25,
   "id": "73b09f4a",
   "metadata": {},
   "outputs": [
    {
     "name": "stdout",
     "output_type": "stream",
     "text": [
      "Numbers and their positions:\n",
      "Number: 27, Position: 15\n",
      "Number: 2024, Position: 24\n",
      "Number: 12, Position: 37\n"
     ]
    }
   ],
   "source": [
    "import re\n",
    "\n",
    "def separate_numbers(text):\n",
    "    \n",
    "    pattern = re.compile(r'\\d+')\n",
    "    \n",
    "    numbers_with_positions = [(match.group(0), match.start()) for match in pattern.finditer(text)]\n",
    "    \n",
    "    return numbers_with_positions\n",
    "\n",
    "def main():\n",
    "    sample_text = \"todays date is 27 april 2024 time is 12 pm\"\n",
    "    \n",
    "    separated_numbers = separate_numbers(sample_text)\n",
    "    \n",
    "    print(\"Numbers and their positions:\")\n",
    "    for number, position in separated_numbers:\n",
    "        print(f\"Number: {number}, Position: {position}\")\n",
    "        \n",
    "if __name__ == \"__main__\":\n",
    "    main()"
   ]
  },
  {
   "cell_type": "markdown",
   "id": "47d893a8",
   "metadata": {},
   "source": [
    "#Q22.Write a regular expression in python program to extract maximum/largest numeric value from a string#"
   ]
  },
  {
   "cell_type": "code",
   "execution_count": 31,
   "id": "48539105",
   "metadata": {},
   "outputs": [
    {
     "name": "stdout",
     "output_type": "stream",
     "text": [
      "Maximum numeric value: 950\n"
     ]
    }
   ],
   "source": [
    "import re\n",
    "\n",
    "def extract_maximum_numeric_value(text):\n",
    "    pattern = re.compile(r'\\b\\d+\\b')\n",
    "    \n",
    "    numeric_values = [int(match.group(0)) for match in pattern.finditer(text)]\n",
    "    \n",
    "    max_numeric_value = max(numeric_values)\n",
    "    \n",
    "    return max_numeric_value\n",
    "\n",
    "def main():\n",
    "    sample_text = 'My marks in each semester are: 947, 896, 926, 524, 734, 950, 642'\n",
    "    \n",
    "    max_value = extract_maximum_numeric_value(sample_text)\n",
    "    \n",
    "    print(\"Maximum numeric value:\", max_value)\n",
    "    \n",
    "if __name__ == \"__main__\":\n",
    "    main()"
   ]
  },
  {
   "cell_type": "markdown",
   "id": "5cb2f950",
   "metadata": {},
   "source": [
    "#Q23.Create a function in python to insert spaces between words starting with capital letters#"
   ]
  },
  {
   "cell_type": "code",
   "execution_count": 31,
   "id": "5f51f3d1",
   "metadata": {},
   "outputs": [
    {
     "name": "stdout",
     "output_type": "stream",
     "text": [
      "Regular Expression Is An Important Topic In Python\n"
     ]
    }
   ],
   "source": [
    "import re\n",
    "\n",
    "def insert_spaces(text):\n",
    "    \n",
    "    pattern = re.compile(r'([A-Z][a-z]*)')\n",
    "    \n",
    "    spaced_text = pattern.sub(r' \\1', text).strip()\n",
    "    return spaced_text\n",
    "\n",
    "def main():\n",
    "    sample_text = \"RegularExpressionIsAnImportantTopicInPython\"\n",
    "    spaced_text = insert_spaces(sample_text)\n",
    "    print(spaced_text)\n",
    "    \n",
    "if __name__ == \"__main__\":\n",
    "    main()"
   ]
  },
  {
   "cell_type": "markdown",
   "id": "192d979e",
   "metadata": {},
   "source": [
    "#Q24.Python regex to find sequences of one upper case letter followed by lower case letters#"
   ]
  },
  {
   "cell_type": "code",
   "execution_count": 2,
   "id": "3f040600",
   "metadata": {},
   "outputs": [
    {
     "name": "stdout",
     "output_type": "stream",
     "text": [
      "Sequences found:\n",
      "['The', 'Fear', 'Living', 'Life', 'Mind']\n"
     ]
    }
   ],
   "source": [
    "import re\n",
    "\n",
    "def find_sequences(text):\n",
    "    pattern = re.compile(r'[A-Z][a-z]+')\n",
    "    sequences = pattern.findall(text)\n",
    "    return sequences\n",
    "\n",
    "def main():\n",
    "    sample_text = \"The Fear is simply because you are not Living with Life, you are living in your Mind\"\n",
    "    sequences = find_sequences(sample_text)\n",
    "    print(\"Sequences found:\")\n",
    "    print(sequences)\n",
    "\n",
    "    \n",
    "if __name__ == \"__main__\":\n",
    "    main()"
   ]
  },
  {
   "cell_type": "markdown",
   "id": "9f116584",
   "metadata": {},
   "source": [
    "#Q25.Write a Python program to remove continuous duplicate words from Sentence using Regular Expression#"
   ]
  },
  {
   "cell_type": "code",
   "execution_count": 4,
   "id": "2a2c87fe",
   "metadata": {},
   "outputs": [
    {
     "name": "stdout",
     "output_type": "stream",
     "text": [
      "Hello world\n"
     ]
    }
   ],
   "source": [
    "import re\n",
    "\n",
    "def remove_continuous_duplicates(sentence):\n",
    "    pattern = re.compile(r'\\b(\\w+)(\\s+\\1)+\\b', re.IGNORECASE)\n",
    "    \n",
    "    cleaned_sentence = pattern.sub(lambda m: m.group(1), sentence)\n",
    "    return cleaned_sentence\n",
    "\n",
    "def main():\n",
    "    sample_text = \"Hello hello world world\"\n",
    "    cleaned_text = remove_continuous_duplicates(sample_text)\n",
    "    print(cleaned_text)\n",
    "    \n",
    "if __name__ == \"__main__\":\n",
    "    main()"
   ]
  },
  {
   "cell_type": "markdown",
   "id": "12420887",
   "metadata": {},
   "source": [
    "#Q26.Write a python program using RegEx to accept string ending with alphanumeric character#"
   ]
  },
  {
   "cell_type": "code",
   "execution_count": 5,
   "id": "53b26d76",
   "metadata": {},
   "outputs": [
    {
     "name": "stdout",
     "output_type": "stream",
     "text": [
      "Enter a string: /\n",
      "String does not end with an alphanumeric character.\n"
     ]
    }
   ],
   "source": [
    "import re\n",
    "\n",
    "def accept_string_ending_alphanumeric(text):\n",
    "    pattern = re.compile(r'\\w$')\n",
    "    if pattern.search(text):\n",
    "        return True\n",
    "    else:\n",
    "        return False\n",
    "\n",
    "def main():\n",
    "    sample_text = input(\"Enter a string: \")\n",
    "    if accept_string_ending_alphanumeric(sample_text):\n",
    "        print(\"String ends with an alphanumeric character.\")\n",
    "    else:\n",
    "        print(\"String does not end with an alphanumeric character.\")\n",
    "        \n",
    "if __name__ == \"__main__\":\n",
    "    main()"
   ]
  },
  {
   "cell_type": "markdown",
   "id": "d603c318",
   "metadata": {},
   "source": [
    "#Q27.Write a python program using RegEx to extract the hashtags#"
   ]
  },
  {
   "cell_type": "code",
   "execution_count": 7,
   "id": "2966019e",
   "metadata": {},
   "outputs": [
    {
     "name": "stdout",
     "output_type": "stream",
     "text": [
      "['#Doltiwal', '#xyzabc', '#Demonetization']\n"
     ]
    }
   ],
   "source": [
    "import re\n",
    "\n",
    "def extract_hashtags(text):\n",
    "    pattern = re.compile(r'#\\w+')\n",
    "    hashtags = pattern.findall(text)\n",
    "    return hashtags\n",
    "\n",
    "def main():\n",
    "    sample_text = \"\"\"RT @kapil_kausik: #Doltiwal I mean #xyzabc is \"hurt\" by #Demonetization as the same has rendered USELESS <ed><U+00A0><U+00BD><ed><U+00B1><U+0089> \"acquired funds\" No wo\"\"\"\n",
    "    extracted_hashtags = extract_hashtags(sample_text)\n",
    "    print(extracted_hashtags)\n",
    "    \n",
    "if __name__ == \"__main__\":\n",
    "     main()"
   ]
  },
  {
   "cell_type": "markdown",
   "id": "ec03a504",
   "metadata": {},
   "source": [
    "#Q28.Write a python program using RegEx to remove <U+..> like symbols#"
   ]
  },
  {
   "cell_type": "code",
   "execution_count": 32,
   "id": "266582bd",
   "metadata": {},
   "outputs": [
    {
     "name": "stdout",
     "output_type": "stream",
     "text": [
      "@Jags123456 Bharat band on 28??<ed><ed>Those who are protesting #demonetization are all different party leaders\n"
     ]
    }
   ],
   "source": [
    "import re\n",
    "\n",
    "def remove_special_symbols(text):\n",
    "    pattern = re.compile(r'\\<U\\+[A-Fa-f0-9]+\\>')\n",
    "    cleaned_text = pattern.sub('', text)\n",
    "    return cleaned_text\n",
    "\n",
    "def main():\n",
    "    sample_text = \"@Jags123456 Bharat band on 28??<ed><U+00A0><U+00BD><ed><U+00B8><U+0082>Those who are protesting #demonetization are all different party leaders\"\n",
    "    cleaned_text = remove_special_symbols(sample_text)\n",
    "    print(cleaned_text)\n",
    "    \n",
    "if __name__ == \"__main__\":\n",
    "    main()"
   ]
  },
  {
   "cell_type": "markdown",
   "id": "b6b9d0df",
   "metadata": {},
   "source": [
    "#Q29.Write a python program to extract dates from the text stored in the text file#"
   ]
  },
  {
   "cell_type": "code",
   "execution_count": 12,
   "id": "14ae2713",
   "metadata": {},
   "outputs": [
    {
     "name": "stdout",
     "output_type": "stream",
     "text": [
      "Dates extracted from the file:\n",
      "12-09-1992\n",
      "15-12-1999\n"
     ]
    }
   ],
   "source": [
    "import re\n",
    "\n",
    "def extract_dates_from_file(filename):\n",
    "    \n",
    "    with open(filename, 'r') as file:\n",
    "        text = file.read()\n",
    "        \n",
    "    pattern = re.compile(r'\\b\\d{2}-\\d{2}-\\d{4}\\b')\n",
    "        \n",
    "    dates = pattern.findall(text)\n",
    "        \n",
    "    return dates\n",
    "\n",
    "def main():\n",
    "    filename = 'sample2_text.txt'\n",
    "    dates = extract_dates_from_file(filename)\n",
    "    \n",
    "    print(\"Dates extracted from the file:\")\n",
    "    for date in dates:\n",
    "        print(date)\n",
    "        \n",
    "if __name__ == \"__main__\":\n",
    "    main()"
   ]
  },
  {
   "cell_type": "markdown",
   "id": "4f1061fe",
   "metadata": {},
   "source": [
    "#Q30.Create a function in python to remove all words from a string of length between 2 and 4#"
   ]
  },
  {
   "cell_type": "code",
   "execution_count": 9,
   "id": "52b13eb5",
   "metadata": {},
   "outputs": [
    {
     "name": "stdout",
     "output_type": "stream",
     "text": [
      " following example creates  arrayList  a capacity   elements. 4 elements   added   ArrayList   ArrayList  trimmed accordingly.\n"
     ]
    }
   ],
   "source": [
    "import re\n",
    "\n",
    "def remove_words(text):\n",
    "    \n",
    "    pattern = re.compile(r'\\b\\w{2,4}\\b')\n",
    "    \n",
    "    cleaned_text = pattern.sub('', text)\n",
    "    \n",
    "    return cleaned_text\n",
    "\n",
    "def main():\n",
    "    sample_text = \"The following example creates an arrayList with a capacity of 50 elements. 4 elements are then added to the ArrayList and the ArrayList is trimmed accordingly.\"\n",
    "    cleaned_text = remove_words(sample_text)\n",
    "    print(cleaned_text)\n",
    "    \n",
    "if __name__ == \"__main__\":\n",
    "    main()"
   ]
  }
 ],
 "metadata": {
  "kernelspec": {
   "display_name": "Python 3 (ipykernel)",
   "language": "python",
   "name": "python3"
  },
  "language_info": {
   "codemirror_mode": {
    "name": "ipython",
    "version": 3
   },
   "file_extension": ".py",
   "mimetype": "text/x-python",
   "name": "python",
   "nbconvert_exporter": "python",
   "pygments_lexer": "ipython3",
   "version": "3.11.5"
  }
 },
 "nbformat": 4,
 "nbformat_minor": 5
}
